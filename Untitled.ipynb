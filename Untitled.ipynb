{
 "cells": [
  {
   "cell_type": "code",
   "execution_count": 3,
   "id": "724d2480-9776-458a-8035-d8840f3cefee",
   "metadata": {},
   "outputs": [
    {
     "name": "stdout",
     "output_type": "stream",
     "text": [
      "URLs have been added and the dataset has been saved.\n"
     ]
    }
   ],
   "source": [
    "import requests\n",
    "import pandas as pd\n",
    "\n",
    "# Function to get Spotify access token\n",
    "def get_spotify_token(client_id, client_secret):\n",
    "    auth_url = 'https://accounts.spotify.com/api/token'\n",
    "    auth_response = requests.post(auth_url, {\n",
    "        'grant_type': 'client_credentials',\n",
    "        'client_id': client_id,\n",
    "        'client_secret': client_secret,\n",
    "    })\n",
    "    auth_data = auth_response.json()\n",
    "    return auth_data['access_token']\n",
    "\n",
    "# Function to search for a track and get its ID\n",
    "def search_track(track_name, artist_name, token):\n",
    "    query = f\"{track_name} artist:{artist_name}\"\n",
    "    url = f\"https://api.spotify.com/v1/search?q={query}&type=track\"\n",
    "    response = requests.get(url, headers={\n",
    "        'Authorization': f'Bearer {token}'\n",
    "    })\n",
    "    json_data = response.json()\n",
    "    try:\n",
    "        first_result = json_data['tracks']['items'][0]\n",
    "        track_id = first_result['id']\n",
    "        return track_id\n",
    "    except (KeyError, IndexError):\n",
    "        return None\n",
    "\n",
    "# Function to get track details\n",
    "def get_track_details(track_id, token):\n",
    "    url = f\"https://api.spotify.com/v1/tracks/{track_id}\"\n",
    "    response = requests.get(url, headers={\n",
    "        'Authorization': f'Bearer {token}'\n",
    "    })\n",
    "    json_data = response.json()\n",
    "    song_url = json_data['external_urls']['spotify']\n",
    "    image_url = json_data['album']['images'][0]['url']\n",
    "    return song_url, image_url\n",
    "\n",
    "# Your Spotify API Credentials\n",
    "client_id = 'a5160b54f44c4150a0355c8f813dd32c'\n",
    "client_secret = 'b20c358484d84af989de5067694a3b8a'\n",
    "\n",
    "# Get Access Token\n",
    "access_token = get_spotify_token(client_id, client_secret)\n",
    "\n",
    "# Read your DataFrame\n",
    "file_path = 'E:\\\\projects\\\\spotify_data_2023\\\\spotify-2023.csv'\n",
    "df_spotify = pd.read_csv(file_path, encoding='ISO-8859-1')\n",
    "\n",
    "# Add new columns for song and album cover URLs\n",
    "def add_urls(row):\n",
    "    track_id = search_track(row['track_name'], row['artist(s)_name'], access_token)\n",
    "    if track_id:\n",
    "        return get_track_details(track_id, access_token)\n",
    "    else:\n",
    "        return None, None\n",
    "\n",
    "df_spotify[['song_url', 'album_cover_url']] = df_spotify.apply(\n",
    "    lambda row: add_urls(row), axis=1, result_type='expand'\n",
    ")\n",
    "\n",
    "# Save the modified dataset\n",
    "output_file_path = 'E:\\\\projects\\\\spotify_data_2023\\\\spotify_data_2023_with_urls.csv'\n",
    "df_spotify.to_csv(output_file_path, index=False)\n",
    "\n",
    "print(\"URLs have been added and the dataset has been saved.\")"
   ]
  },
  {
   "cell_type": "code",
   "execution_count": null,
   "id": "93580973-2790-4bc3-9886-bb281db5e8cc",
   "metadata": {},
   "outputs": [],
   "source": []
  }
 ],
 "metadata": {
  "kernelspec": {
   "display_name": "Python 3 (ipykernel)",
   "language": "python",
   "name": "python3"
  },
  "language_info": {
   "codemirror_mode": {
    "name": "ipython",
    "version": 3
   },
   "file_extension": ".py",
   "mimetype": "text/x-python",
   "name": "python",
   "nbconvert_exporter": "python",
   "pygments_lexer": "ipython3",
   "version": "3.12.3"
  }
 },
 "nbformat": 4,
 "nbformat_minor": 5
}
